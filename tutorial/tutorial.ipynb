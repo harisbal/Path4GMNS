{
 "cells": [
  {
   "cell_type": "markdown",
   "id": "fifteen-beast",
   "metadata": {},
   "source": [
    "# Quick Start\n",
    "\n",
    "This notebook serves as a tutorial and illustrates how to use Path4GMNS step by step."
   ]
  },
  {
   "cell_type": "markdown",
   "id": "accompanied-express",
   "metadata": {},
   "source": [
    "## 1. Install Path4GMNS"
   ]
  },
  {
   "cell_type": "code",
   "execution_count": null,
   "id": "global-waste",
   "metadata": {
    "scrolled": true
   },
   "outputs": [],
   "source": [
    "pip install path4gmns"
   ]
  },
  {
   "cell_type": "markdown",
   "id": "third-oklahoma",
   "metadata": {},
   "source": [
    "## 2. Prepare Input Data\n",
    "\n",
    "node.csv and link.csv complying GMNS is the minimum requirement for you to get started. You can either download the sample data sets with the built-in function or prepare your own data set."
   ]
  },
  {
   "cell_type": "code",
   "execution_count": null,
   "id": "verified-aircraft",
   "metadata": {},
   "outputs": [],
   "source": [
    "import path4gmns as pg"
   ]
  },
  {
   "cell_type": "markdown",
   "id": "de5b5eab",
   "metadata": {},
   "source": [
    "download_sample_data_sets() will download five sample data sets including ASU, Braess Paradox, Chicago Sketch, Lima Network, Sioux Falls, and Two Corridors. Each of them contains the following files.\n",
    "\n",
    "1. node.csv\n",
    "2. link.csv\n",
    "3. demand.csv\n",
    "4. settings.yml (for multimodal analyses)\n",
    "5. settings.csv (for DTALite)"
   ]
  },
  {
   "cell_type": "code",
   "execution_count": null,
   "id": "helpful-spending",
   "metadata": {},
   "outputs": [],
   "source": [
    "pg.download_sample_data_sets()"
   ]
  },
  {
   "cell_type": "markdown",
   "id": "annoying-berry",
   "metadata": {},
   "source": [
    "Navigate to the target data set directory. In this tutorial, we will use the [data set](https://github.com/jdlph/Path4GMNS/tree/dev/tests) where this Jupyter notebook is located for simplicity. You can check your present working directory (PWD) by the following commnad."
   ]
  },
  {
   "cell_type": "code",
   "execution_count": null,
   "id": "inner-vintage",
   "metadata": {},
   "outputs": [],
   "source": [
    "pwd"
   ]
  },
  {
   "cell_type": "markdown",
   "id": "1ed8250f",
   "metadata": {},
   "source": [
    "If you are working in an online environment, e.g., Google Colab. You can move to one of the downloaded sample data sets, say ASU, via the following lines. "
   ]
  },
  {
   "cell_type": "code",
   "execution_count": null,
   "id": "284e6817",
   "metadata": {},
   "outputs": [],
   "source": [
    "import os\n",
    "os.chdir('data/Chicago_Sketch')"
   ]
  },
  {
   "cell_type": "markdown",
   "id": "understanding-discretion",
   "metadata": {},
   "source": [
    "## 3. The Basic Functionalities\n",
    "### 3.1 Get the Shortest Path between Two Nodes\n",
    "Find the (static) shortest path (based on distance) and output it in the format of a sequence of node/link IDs."
   ]
  },
  {
   "cell_type": "code",
   "execution_count": null,
   "id": "introductory-laser",
   "metadata": {},
   "outputs": [],
   "source": [
    "# create the network object by reading node.csv and link.csv\n",
    "# no need to load demand file for equity evaluation\n",
    "network = pg.read_network()\n",
    "\n",
    "# node path from node 1 to node 2\n",
    "print('\\nshortest path (node id) from node 1 to node 2, '\n",
    "      +network.find_shortest_path(1, 2))\n",
    "# link path from node 1 to node 2\n",
    "print('\\nshortest path (link id) from node 1 to node 2, '\n",
    "      +network.find_shortest_path(1, 2, seq_type='link'))"
   ]
  },
  {
   "attachments": {},
   "cell_type": "markdown",
   "id": "85bf294e",
   "metadata": {},
   "source": [
    "Path4GMNS uses **mile** and **mile per hour (mph)** as the default units for length and speed in its internal calculation and all outputs. If your link.csv features different length and speed units, please specify them in read_network(). The supported units are list as blow.\n",
    "\n",
    " **Length Units**\n",
    " * meter and m\n",
    " * kilometer and km\n",
    " * mile and mi\n",
    "\n",
    " **Speed Units**\n",
    " * kmh or kph\n",
    " * mph\n",
    " \n",
    " You would have to do manual conversion if your units are not among the above ones."
   ]
  },
  {
   "cell_type": "code",
   "execution_count": null,
   "id": "a07d88b4",
   "metadata": {},
   "outputs": [],
   "source": [
    "# the default are length_unit='mile' and speed_unit='mph'\n",
    "network = pg.read_network(length_unit='meter', speed_unit='kph')\n",
    "\n",
    "# node path from node 1 to node 2\n",
    "print('\\nshortest path (node id) from node 1 to node 2, '\n",
    "      +network.find_shortest_path(1, 2))\n",
    "# link path from node 1 to node 2\n",
    "print('\\nshortest path (link id) from node 1 to node 2, '\n",
    "      +network.find_shortest_path(1, 2, seq_type='link'))"
   ]
  },
  {
   "attachments": {},
   "cell_type": "markdown",
   "id": "mysterious-diamond",
   "metadata": {},
   "source": [
    "### 3.2 Perform Path-Based UE Traffic Assignment\n",
    "\n",
    "OD demand matrix and zone information is crucial in conducting traffic assignment are essential to perform this functionality. The demand file is presumed to be given and zone information is provided along node.csv. The latter is the current design of GMNS and is endorsed in [OSM2GMNS](https://github.com/jiawlu/OSM2GMNS).\n",
    "\n",
    "The demand will be loaded by default via pg.read_demand(). If demand.csv is missing, pg.read_demand() will automatically conduct the following attempts.\n",
    "1. try to load the synthetic demand (as syn_demand.csv and zones as syn_zone.csv).\n",
    "2. synthesize demand (and zones) if the previous attempt fails.\n",
    "\n",
    "Then you can conduct traffic assignment via the following lines."
   ]
  },
  {
   "cell_type": "code",
   "execution_count": null,
   "id": "advance-bridges",
   "metadata": {},
   "outputs": [],
   "source": [
    "network = pg.read_network()\n",
    "pg.read_demand(network)\n",
    "\n",
    "# specify the parameters for traffic assignment\n",
    "column_gen_num = 10\n",
    "column_upd_num = 10\n",
    "\n",
    "# path-based UE only\n",
    "pg.find_ue(network, column_gen_num, column_upd_num)\n",
    "\n",
    "# if you do not want to include geometry info in the output file,\n",
    "# use pg.output_columns(network, False)\n",
    "# output column information to route_assignment.csv\n",
    "pg.output_columns(network)\n",
    "# output link performance to link_performance.csv\n",
    "pg.output_link_performance(network)"
   ]
  },
  {
   "cell_type": "markdown",
   "id": "c2c1211e",
   "metadata": {},
   "source": [
    "The demand file is specified in settings.yml as demand.csv (see 4.1 Sample setting.yml for details). You can change it to any demand file in your PWD. This design actually allows us to load multiple demand files simultaneously corresponding to different period and agent_type. We will elaborate it in a future release.\n",
    "\n",
    "The code snippet below demonstrates how to adaptively control the UE convergency."
   ]
  },
  {
   "cell_type": "code",
   "execution_count": null,
   "id": "73f76e61",
   "metadata": {},
   "outputs": [],
   "source": [
    "network = pg.read_network()\n",
    "\n",
    "# specify the parameters for traffic assignment\n",
    "column_gen_num = 20\n",
    "column_upd_num = 20\n",
    "\n",
    "rel_gap = pg.find_ue(network, column_gen_num, column_upd_num)\n",
    "rel_gap_tolerance = 0.00001\n",
    "\n",
    "# redefine column_upd_num for convergency control\n",
    "column_upd_num = 10\n",
    "while rel_gap > rel_gap_tolerance:\n",
    "    rel_gap = pg.find_ue(network, 0, column_upd_num)\n",
    "\n",
    "# if you do not want to include geometry info in the output file,\n",
    "# use pg.output_columns(network, False)\n",
    "pg.output_columns(network)\n",
    "pg.output_link_performance(network)"
   ]
  },
  {
   "cell_type": "markdown",
   "id": "ad91ad31",
   "metadata": {},
   "source": [
    "### 3.3 Conduct Dynamic Traffic Simulation\n",
    "\n",
    "Traffic simulation requires routing decision for each agent, which comes from the UE traffic assignment."
   ]
  },
  {
   "cell_type": "code",
   "execution_count": null,
   "id": "25395625",
   "metadata": {},
   "outputs": [],
   "source": [
    "network = pg.read_network()\n",
    "pg.read_demand(network)\n",
    "\n",
    "# UE + DTA\n",
    "column_gen_num = 10\n",
    "column_upd_num = 10\n",
    "pg.find_ue(network, column_gen_num, column_upd_num)\n",
    "pg.perform_simple_simulation(network)\n",
    "print('complete dynamic simulation.\\n')\n",
    "\n",
    "print('writing agent trajectories')\n",
    "pg.output_agent_trajectory(network)"
   ]
  },
  {
   "cell_type": "markdown",
   "id": "795b9208",
   "metadata": {},
   "source": [
    "If you have route_assignment.csv (i.e., columns) from a previous run or DTALite, you can bypass perform_column_generation() and directly load it to conduct simulation."
   ]
  },
  {
   "cell_type": "code",
   "execution_count": null,
   "id": "d71328a7",
   "metadata": {},
   "outputs": [],
   "source": [
    "import path4gmns as pg\n",
    "\n",
    "# no need to load demand file as we will infer the demand from columns\n",
    "network = pg.read_network()\n",
    "\n",
    "# load existing UE result\n",
    "pg.load_columns(network)\n",
    "\n",
    "# DTA\n",
    "pg.perform_simple_simulation(network)\n",
    "print('complete dynamic simulation.\\n')\n",
    "\n",
    "print('writing agent trajectories')\n",
    "pg.output_agent_trajectory(network)"
   ]
  },
  {
   "cell_type": "markdown",
   "id": "5247c535",
   "metadata": {},
   "source": [
    "If you are still interested in traffic simulation using shortest paths, it can be achieved by setting column_gen_num as 1 and column_upd_num as 0 illustrated below."
   ]
  },
  {
   "cell_type": "code",
   "execution_count": null,
   "id": "447cf146",
   "metadata": {},
   "outputs": [],
   "source": [
    "import path4gmns as pg\n",
    "\n",
    "network = pg.read_network()\n",
    "pg.read_demand(network)\n",
    "\n",
    "# the following setting will set up the shortest path for each agent\n",
    "column_gen_num = 1\n",
    "column_upd_num = 0\n",
    "pg.find_ue(network, column_gen_num, column_upd_num)\n",
    "pg.perform_simple_simulation(network)\n",
    "print('complete dynamic simulation.\\n')\n",
    "\n",
    "print('writing agent trajectories')\n",
    "pg.output_agent_trajectory(network)"
   ]
  },
  {
   "cell_type": "markdown",
   "id": "c7b1fddf",
   "metadata": {},
   "source": [
    "### 3.4 Run ODME\n",
    "\n",
    "You can utilize traffic observations to calibrate UE results. Traffic observations in terms of traffic count at link, or zone origin, or zone destination must be specified in measurement.csv."
   ]
  },
  {
   "cell_type": "code",
   "execution_count": null,
   "id": "b021dc50",
   "metadata": {},
   "outputs": [],
   "source": [
    "network = pg.read_network()\n",
    "\n",
    "pg.read_demand(network)\n",
    "\n",
    "# path-based UE\n",
    "column_gen_num = 20\n",
    "column_upd_num = 20\n",
    "pg.find_ue(network, column_gen_num, column_upd_num)\n",
    "\n",
    "# ODME\n",
    "pg.read_measurements(network)\n",
    "pg.conduct_odme(network, 20)\n",
    "\n",
    "# output column information to route_assignment.csv\n",
    "pg.output_columns(network)\n",
    "# output link performance to link_performance.csv\n",
    "pg.output_link_performance(network)"
   ]
  },
  {
   "cell_type": "markdown",
   "id": "2a06e626",
   "metadata": {},
   "source": [
    "Similar to DTA, the UE results as input to ODME could come from existing runs. Code snippet will be skipped here. Please refer to the previous section for details."
   ]
  },
  {
   "cell_type": "markdown",
   "id": "identified-timer",
   "metadata": {},
   "source": [
    "### 3.5 Evaluate Accessibility\n",
    "\n",
    "Accessiblity defines where you can go given a time budget and a transportation mode (e.g., auto). You can find the number of accessible zones from each zone (zone_accessibility.csv) along with the free flow travel time for each OD pair **in minutes** (od_accessibility.csv).\n",
    "\n",
    "The default mode is 'auto' and the default time budget is 240 minutes. We will come back to multimodal evaluation in a later section. Zone information is necessary for accessibility evaluation."
   ]
  },
  {
   "cell_type": "code",
   "execution_count": null,
   "id": "supreme-module",
   "metadata": {},
   "outputs": [],
   "source": [
    "# no need to load demand file for accessibility evaluation\n",
    "network = pg.read_network()\n",
    "\n",
    "pg.evaluate_accessibility(network, single_mode=True)"
   ]
  },
  {
   "cell_type": "markdown",
   "id": "ordinary-chance",
   "metadata": {},
   "source": [
    "### 3.6 Evaluate Equity\n",
    "\n",
    "Transportation equity is accessibility with respect to different demographics. Path4GMNS rovides the following simple info and statistics on equity given a time budget and a segmentation of zones.\n",
    "\n",
    "1. accessible zones.\n",
    "2. min accessibility. This metric refers to the zone with the minimum number of accessible zones. \n",
    "3. max accessibility. This metric refers to the zone with the maximum number of accessible zones. \n",
    "4. mean accessibility. The average number of accessible zones over a bin of zones (corresponding to a specific demographic) given a time budget and a transportation mode.\n",
    "\n",
    "Similar to accessiblity evaluation, the default mode is 'auto' but the default time budget is 60 minutes. Zone information is still required here."
   ]
  },
  {
   "cell_type": "code",
   "execution_count": null,
   "id": "dressed-enemy",
   "metadata": {},
   "outputs": [],
   "source": [
    "# no need to load demand file for equity evaluation\n",
    "network = pg.read_network()\n",
    "\n",
    "pg.evaluate_equity(network, single_mode=True)"
   ]
  },
  {
   "cell_type": "markdown",
   "id": "accepting-indian",
   "metadata": {},
   "source": [
    "## 4. Move Foward to Multimodal Evaluation\n",
    "\n",
    "In order to perform multimodal evaluation, the corresponding modes (i.e., agent types) must be presented in settings.yml. It will be parsed by pyyaml (5.1 or higher) to the Python engine at run-time. \n",
    "\n",
    "pyyaml must be installed before running any multimodal evaluation."
   ]
  },
  {
   "cell_type": "code",
   "execution_count": null,
   "id": "31fde7f0",
   "metadata": {},
   "outputs": [],
   "source": [
    "pip install pyyaml"
   ]
  },
  {
   "cell_type": "markdown",
   "id": "abbb261f",
   "metadata": {},
   "source": [
    "### 4.1 Sample setting.yml\n",
    "A sample file looks like blow. You can start from here and modify it towards your own needs. **Note that** the default agent type which is **'a' as type and 'auto' as name must be present in this file**. Otherwise, you will encounter an exception with message \"No AGENT type: a\". We will relax this requirement in a later release.\n",
    "\n",
    "```yaml\n",
    "agents:\n",
    "  - type: a\n",
    "    name: auto\n",
    "    vot: 10\n",
    "    flow_type: 0\n",
    "    pce: 1\n",
    "    free_speed: 60\n",
    "    use_link_ffs: true\n",
    "  - type: w\n",
    "    name: walk\n",
    "    vot: 10\n",
    "    flow_type: 0\n",
    "    pce: 1\n",
    "    free_speed: 10\n",
    "    use_link_ffs: false\n",
    "\n",
    "demand_periods:\n",
    "  - period: AM\n",
    "    time_period: 0700-0800\n",
    "\n",
    "demand_files:\n",
    "  - file_name: demand.csv\n",
    "    period: AM\n",
    "    agent_type: a\n",
    "```\n",
    "\n",
    "You can download a sample settings.yml (to your PWD) if you do not have one by the following command."
   ]
  },
  {
   "cell_type": "code",
   "execution_count": null,
   "id": "disabled-mobility",
   "metadata": {},
   "outputs": [],
   "source": [
    "pg.download_sample_setting_file()"
   ]
  },
  {
   "cell_type": "markdown",
   "id": "great-catholic",
   "metadata": {},
   "source": [
    "### 4.2 Get the Shortest Path between Two Nodes under a Specific Mode\n",
    "In 3.1, we used this functionlity implicitly for the default mode, which is 'a' or equivalently 'auto'. Now with 'walk' defined in settings.yml, we are able to find the shortest path under mode 'w' or 'walk'."
   ]
  },
  {
   "cell_type": "code",
   "execution_count": null,
   "id": "continuous-baker",
   "metadata": {},
   "outputs": [],
   "source": [
    "network = pg.read_network()\n",
    "\n",
    "print('\\nshortest path (node id) from node 1 to node 2, '\n",
    "      +network.find_shortest_path(1, 2, mode='w'))\n",
    "print('\\nshortest path (link id) from node 1 to node 2, '\n",
    "      +network.find_shortest_path(1, 2, mode='w', seq_type='link'))"
   ]
  },
  {
   "attachments": {},
   "cell_type": "markdown",
   "id": "balanced-cattle",
   "metadata": {},
   "source": [
    "For this test data set, 3.1 and 4.1 have the same results as each link is open to all modes, i.e., their \"allowed_uses\" are \"all\". "
   ]
  },
  {
   "attachments": {},
   "cell_type": "markdown",
   "id": "further-sampling",
   "metadata": {},
   "source": [
    "### 4.3 Perform Multimodal Accessibility Evaluation\n",
    "\n",
    "It is very similar to what we have done in 3.4 for a single-mode analysis."
   ]
  },
  {
   "cell_type": "code",
   "execution_count": null,
   "id": "anticipated-stage",
   "metadata": {},
   "outputs": [],
   "source": [
    "# no need to load demand file for accessibility evaluation\n",
    "network = pg.read_network()\n",
    "\n",
    "pg.evaluate_accessibility(network)"
   ]
  },
  {
   "attachments": {},
   "cell_type": "markdown",
   "id": "premium-italian",
   "metadata": {},
   "source": [
    "### 4.4 Perform Multimodal Equity Evaluation\n",
    "\n",
    "By removing \"single_mode=True\" from the arugment list in evaluate_equity(), multimodal evaluation will be triggered for all modes defined in settings.yml"
   ]
  },
  {
   "cell_type": "code",
   "execution_count": null,
   "id": "appointed-monte",
   "metadata": {},
   "outputs": [],
   "source": [
    "# no need to load demand file for equity evaluation\n",
    "network = pg.read_network()\n",
    "\n",
    "pg.evaluate_equity(network)"
   ]
  },
  {
   "attachments": {},
   "cell_type": "markdown",
   "id": "signed-marsh",
   "metadata": {},
   "source": [
    "## 5. Advanced Features\n",
    "\n",
    "### 5.1 In Case of Special Events\n",
    "\n",
    "A special event often comes with capacity reduction over affected links. You can introduce one special event for each demand period in settings.yml as below. \n",
    "\n",
    "```yaml\n",
    "demand_periods:\n",
    "  - period: AM\n",
    "    time_period: 0700-0800\n",
    "    special_event:\n",
    "      name: work_zone\n",
    "      enable: true\n",
    "      affected_links:\n",
    "        - link_id: 1\n",
    "          capacity_ratio: 0.5\n",
    "        - link_id: 2\n",
    "          capacity_ratio: 0.4\n",
    "        - link_id: 3\n",
    "          capacity_ratio: 0.6\n",
    "        - link_id: 4\n",
    "          capacity_ratio: 0\n",
    "```\n",
    "\n",
    "If the original capacity of an affected link i is C, its capacity then will be r * C with a reduction ratio of r when a special event is present. For an affected link, setting its capacity_ratio to 0 is equivalent to removing it from the entire demand period. You can turn on or off a special event by setting enable to true or false.\n",
    "\n",
    "Then you can conduct traffic assignment (as shown in 3.3) and see the impact from a special event.\n",
    "\n",
    "### 5.2 Accessibility Considering Time-Dependent Link Travel Time\n",
    "\n",
    "In 3.4 and 4.4, accessiblity is evluated using the link free flow travel time, which is determined by link length and link free-flow speed under a specific mode. \n",
    "\n",
    "Link travel time varies over time so does accessibility. When the time-dependent accessibility is of interested, time-dependent link travel time (i.e., VDF_fftt from a given demand period in link.csv) will come into play by overwriting the (static) link free-flow speed (from either link.csv or settings.yml. both are denoted as \"free_speed\")."
   ]
  },
  {
   "cell_type": "code",
   "execution_count": null,
   "id": "sought-commercial",
   "metadata": {},
   "outputs": [],
   "source": [
    "network = pg.read_network()\n",
    "\n",
    "# time-dependent accessibility under the default mode auto (i.e., 'a')\n",
    "# for demand period 0 (i.e., VDF_fftt1 in link.csv will be used in the evaluation)\n",
    "pg.evaluate_accessibility(network, single_mode=True, time_dependent=True)\n",
    "\n",
    "# if you would like to evaluate accessibility under a target mode, say walk, then\n",
    "pg.evaluate_accessibility(network, single_mode=True, mode='w', time_dependent=True)"
   ]
  },
  {
   "cell_type": "markdown",
   "id": "clear-celtic",
   "metadata": {},
   "source": [
    "## 6. DTALite\n",
    "\n",
    "Path4GMNS also serves as an API to the C++-based DTALite to conduct various multimodal traffic assignments including,\n",
    "\n",
    "    0: Link-based UE,\n",
    "    1: Path-based UE,\n",
    "    2: UE + Dynamic Traffic Assignment (DTA),\n",
    "    3: OD Matrix Estimation (ODME).\n",
    "\n",
    "Here we only demonstrate how to perform path-based UE (i.e., mode 1) using DTALite from Path4GMNS. You would need [settings.csv](https://github.com/jdlph/Path4GMNS/blob/dev/tests/settings.csv) to get started.\n",
    "\n",
    "In order to use DTALite embedded in Path4GMNS, run-time support OpenMP must be installed in the first space. See [Installation](https://path4gmns.readthedocs.io/en/latest/installation.html) for details."
   ]
  },
  {
   "cell_type": "code",
   "execution_count": null,
   "id": "anonymous-services",
   "metadata": {},
   "outputs": [],
   "source": [
    "mode = 1\n",
    "column_gen_num = 10\n",
    "column_upd_num = 10\n",
    "\n",
    "pg.perform_network_assignment_DTALite(mode, column_gen_num, column_upd_num)"
   ]
  },
  {
   "cell_type": "markdown",
   "id": "9ec4b7a1",
   "metadata": {},
   "source": [
    "Please consider running the script calling this API using system terminal rather than the Python console for proper logging.\n",
    "\n",
    "Starting from v0.9.6, you could conduct the above tasks using the [Multimodal DTALite](https://github.com/asu-trans-ai-lab/DTALite/tree/feature/multimodal). No parameters are needed. \n",
    "\n",
    "Note that running it with the current input will lead to *kernel crash* as it requires a **different [settings.yml](https://github.com/asu-trans-ai-lab/DTALite/blob/feature/multimodal/data/01_4_node_network/minimum_input/settings.yml)**! You can test this API with [this data set](https://github.com/asu-trans-ai-lab/DTALite/tree/feature/multimodal/data). "
   ]
  },
  {
   "cell_type": "code",
   "execution_count": null,
   "id": "39ae97c0",
   "metadata": {},
   "outputs": [],
   "source": [
    "pg.run_DTALite()"
   ]
  }
 ],
 "metadata": {
  "kernelspec": {
   "display_name": "Python 3",
   "language": "python",
   "name": "python3"
  },
  "language_info": {
   "codemirror_mode": {
    "name": "ipython",
    "version": 3
   },
   "file_extension": ".py",
   "mimetype": "text/x-python",
   "name": "python",
   "nbconvert_exporter": "python",
   "pygments_lexer": "ipython3",
   "version": "3.7.6"
  },
  "vscode": {
   "interpreter": {
    "hash": "40d3a090f54c6569ab1632332b64b2c03c39dcf918b08424e98f38b5ae0af88f"
   }
  }
 },
 "nbformat": 4,
 "nbformat_minor": 5
}
